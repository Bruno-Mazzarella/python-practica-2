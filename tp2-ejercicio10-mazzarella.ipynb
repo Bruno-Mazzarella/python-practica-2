{
 "cells": [
  {
   "cell_type": "markdown",
   "id": "9c0ab5d7-38f5-41f3-bde1-a0d03050dd56",
   "metadata": {},
   "source": [
    "10. Dada una lista de nombres de estudiantes y dos listas con sus notas en un curso, escriba un programa que manipule dichas estructuras de datos para poder resolver los siguientes puntos:\n",
    "    1. Generar una estructura con todas las notas relacionando el nombre del estudiante con las   notas. Utilizar esta estructura para la resolución de los siguientes items\n",
    "    2. Calcular el promedio de notas de cada estudiante.\n",
    "    3. Calcular el promedio general del curso.\n",
    "    4. Identificar al estudiante con la nota promedio más alta.\n",
    "    5. Identificar al estudiante con la nota más baja.\n",
    "\n",
    "\n",
    "**Nota**:\n",
    "- Las 3 estructuras están ordenadas de forma que los elementos en la misma posición corresponden a un mismo alumno.\n",
    "- Realizar funciones con cada item"
   ]
  },
  {
   "cell_type": "code",
   "execution_count": 1,
   "id": "a4af89b2-880c-42d2-850f-1249df0a7f61",
   "metadata": {},
   "outputs": [],
   "source": [
    "nombres = ''' 'Agustin', 'Alan', 'Andrés', 'Ariadna', 'Bautista', 'CAROLINA', 'CESAR',\n",
    "'David', 'Diego', 'Dolores', 'DYLAN', 'ELIANA', 'Emanuel', 'Fabián', 'Facundo',\n",
    "'Francsica', 'FEDERICO', 'Fernanda', 'GONZALO', 'Gregorio', 'Ignacio', 'Jonathan',\n",
    "'Joaquina', 'Jorge', 'JOSE', 'Javier', 'Joaquín' , 'Julian', 'Julieta', 'Luciana',\n",
    "'LAUTARO', 'Leonel', 'Luisa', 'Luis', 'Marcos', 'María', 'MATEO', 'Matias',\n",
    "'Nicolás', 'Nancy', 'Noelia', 'Pablo', 'Priscila', 'Sabrina', 'Tomás', 'Ulises',\n",
    "'Yanina' '''\n",
    "notas_1 = [81,  60, 72, 24, 15, 91, 12, 70, 29, 42, 16, 3, 35, 67, 10, 57, 11, 69, 12, 77, \n",
    "           13, 86, 48, 65, 51, 41, 87, 43, 10, 87, 91, 15, 44, 85, 73, 37, 42, 95, 18, 7, \n",
    "           74, 60, 9, 65, 93, 63, 74]\n",
    "notas_2 = [30, 95, 28, 84, 84, 43, 66, 51, 4, 11, 58, 10, 13, 34, 96, 71, 86, 37, 64, 13, 8,\n",
    "           87, 14, 14, 49, 27, 55, 69, 77, 59, 57, 40, 96, 24, 30, 73, 95, 19, 47, 15, 31,\n",
    "           39, 15, 74, 33, 57, 10]"
   ]
  },
  {
   "cell_type": "markdown",
   "id": "820a0b59-9630-4cce-bd8a-0f2112e982aa",
   "metadata": {},
   "source": [
    "A) los priemro que tenemos que hacer es generar una estructura que relacione el nombre de cada estudiante con sus notas. Para esto, primero separemos los nombres en una lista, eliminando saltos y espacios"
   ]
  },
  {
   "cell_type": "code",
   "execution_count": 2,
   "id": "6766697d-ff21-4dff-83af-dcbcfc413717",
   "metadata": {},
   "outputs": [],
   "source": [
    "ID=nombres.replace('\\n',' ').replace('\\'', '').strip(\" \").split(', ')\n"
   ]
  },
  {
   "cell_type": "markdown",
   "id": "716e041f-e348-418f-95db-3403f76bb9f3",
   "metadata": {},
   "source": [
    "Ahora armemos un diccionario donde las claves son los nombres de los alumnos y los valores un lista con las notas de los estudiantes. "
   ]
  },
  {
   "cell_type": "code",
   "execution_count": 3,
   "id": "7b722138-e7f9-4acf-8753-93721065a1b4",
   "metadata": {
    "scrolled": true
   },
   "outputs": [
    {
     "name": "stdout",
     "output_type": "stream",
     "text": [
      "{'Agustin': [81, 30], 'Alan': [60, 95], 'Andrés': [72, 28], 'Ariadna': [24, 84], 'Bautista': [15, 84], 'CAROLINA': [91, 43], 'CESAR': [12, 66], 'David': [70, 51], 'Diego': [29, 4], 'Dolores': [42, 11], 'DYLAN': [16, 58], 'ELIANA': [3, 10], 'Emanuel': [35, 13], 'Fabián': [67, 34], 'Facundo': [10, 96], 'Francsica': [57, 71], 'FEDERICO': [11, 86], 'Fernanda': [69, 37], 'GONZALO': [12, 64], 'Gregorio': [77, 13], 'Ignacio': [13, 8], 'Jonathan': [86, 87], 'Joaquina': [48, 14], 'Jorge': [65, 14], 'JOSE': [51, 49], 'Javier': [41, 27], 'Joaquín ': [87, 55], 'Julian': [43, 69], 'Julieta': [10, 77], 'Luciana': [87, 59], 'LAUTARO': [91, 57], 'Leonel': [15, 40], 'Luisa': [44, 96], 'Luis': [85, 24], 'Marcos': [73, 30], 'María': [37, 73], 'MATEO': [42, 95], 'Matias': [95, 19], 'Nicolás': [18, 47], 'Nancy': [7, 15], 'Noelia': [74, 31], 'Pablo': [60, 39], 'Priscila': [9, 15], 'Sabrina': [65, 74], 'Tomás': [93, 33], 'Ulises': [63, 57], 'Yanina': [74, 10]}\n"
     ]
    }
   ],
   "source": [
    "registro={}\n",
    "for i in range(len(ID)):\n",
    "    registro[ID[i]]=[notas_1[i],notas_2[i]]\n",
    "print(registro)"
   ]
  },
  {
   "cell_type": "markdown",
   "id": "367ad7cf-f427-4b71-b4c9-cd5aec6d2141",
   "metadata": {},
   "source": [
    "B) Queremos el promedio de todos los estudiantes, para eso primero definamos una funcion que calcule promedios."
   ]
  },
  {
   "cell_type": "code",
   "execution_count": 4,
   "id": "8aeaeb50-652a-4794-b3e3-fb70ef5ac278",
   "metadata": {},
   "outputs": [],
   "source": [
    "def promedio(valores):\n",
    "    \"\"\" esta funcion calcula el valor promedio de la lista que le estamos pasando por argumento\"\"\"\n",
    "    prom=sum(valores)/len(valores)\n",
    "    return prom"
   ]
  },
  {
   "cell_type": "markdown",
   "id": "abf98489-fce1-4e09-9c72-5a03c9aab6dc",
   "metadata": {},
   "source": [
    "y ahora calculamos el promedio de cada estudiante."
   ]
  },
  {
   "cell_type": "code",
   "execution_count": 5,
   "id": "6af243e5-e65a-408f-ac61-7c7345548af5",
   "metadata": {},
   "outputs": [
    {
     "name": "stdout",
     "output_type": "stream",
     "text": [
      "los promedios son:\n",
      "el promedio de Agustin es 55.5\n",
      "el promedio de Alan es 77.5\n",
      "el promedio de Andrés es 50.0\n",
      "el promedio de Ariadna es 54.0\n",
      "el promedio de Bautista es 49.5\n",
      "el promedio de CAROLINA es 67.0\n",
      "el promedio de CESAR es 39.0\n",
      "el promedio de David es 60.5\n",
      "el promedio de Diego es 16.5\n",
      "el promedio de Dolores es 26.5\n",
      "el promedio de DYLAN es 37.0\n",
      "el promedio de ELIANA es 6.5\n",
      "el promedio de Emanuel es 24.0\n",
      "el promedio de Fabián es 50.5\n",
      "el promedio de Facundo es 53.0\n",
      "el promedio de Francsica es 64.0\n",
      "el promedio de FEDERICO es 48.5\n",
      "el promedio de Fernanda es 53.0\n",
      "el promedio de GONZALO es 38.0\n",
      "el promedio de Gregorio es 45.0\n",
      "el promedio de Ignacio es 10.5\n",
      "el promedio de Jonathan es 86.5\n",
      "el promedio de Joaquina es 31.0\n",
      "el promedio de Jorge es 39.5\n",
      "el promedio de JOSE es 50.0\n",
      "el promedio de Javier es 34.0\n",
      "el promedio de Joaquín  es 71.0\n",
      "el promedio de Julian es 56.0\n",
      "el promedio de Julieta es 43.5\n",
      "el promedio de Luciana es 73.0\n",
      "el promedio de LAUTARO es 74.0\n",
      "el promedio de Leonel es 27.5\n",
      "el promedio de Luisa es 70.0\n",
      "el promedio de Luis es 54.5\n",
      "el promedio de Marcos es 51.5\n",
      "el promedio de María es 55.0\n",
      "el promedio de MATEO es 68.5\n",
      "el promedio de Matias es 57.0\n",
      "el promedio de Nicolás es 32.5\n",
      "el promedio de Nancy es 11.0\n",
      "el promedio de Noelia es 52.5\n",
      "el promedio de Pablo es 49.5\n",
      "el promedio de Priscila es 12.0\n",
      "el promedio de Sabrina es 69.5\n",
      "el promedio de Tomás es 63.0\n",
      "el promedio de Ulises es 60.0\n",
      "el promedio de Yanina es 42.0\n"
     ]
    }
   ],
   "source": [
    "print(f\"los promedios son:\")\n",
    "for i in ID:\n",
    "    print(f\"el promedio de {i} es {promedio(registro[i])}\")"
   ]
  },
  {
   "cell_type": "markdown",
   "id": "ca7936f2-c60f-486b-bded-54cfd2f2a9cd",
   "metadata": {},
   "source": [
    "C) Ahora nos piden calcular el promedio general de todo el curso, para eso vamos a calcular el promedio de los promedios de cada alumno. Para esto definimos una funcion que calcule el promedio general"
   ]
  },
  {
   "cell_type": "code",
   "execution_count": 6,
   "id": "af8fab23-ec74-4a14-a010-39160c2b36b7",
   "metadata": {},
   "outputs": [],
   "source": [
    "def promedio_general(**dicc):\n",
    "    \"\"\" esta funcion va a calcular el promdeio general del curso \"\"\"\n",
    "    prom=0\n",
    "    for i in dicc.keys():\n",
    "        prom += promedio(dicc[i])\n",
    "    prom_general = prom/len(dicc.values())\n",
    "    return prom_general"
   ]
  },
  {
   "cell_type": "code",
   "execution_count": 7,
   "id": "704db6f2-24d1-4e89-8894-fb27ecece0ec",
   "metadata": {},
   "outputs": [
    {
     "name": "stdout",
     "output_type": "stream",
     "text": [
      "el promedio general del curso es 48.09574468085106\n"
     ]
    }
   ],
   "source": [
    "print(f\"el promedio general del curso es {promedio_general(**registro)}\")"
   ]
  },
  {
   "cell_type": "markdown",
   "id": "e09d80ea-fa7a-40f9-918d-bbe99a444ba4",
   "metadata": {},
   "source": [
    "D) Ahora nos piden que encontremos a el/la estudiante con la nota promedio mas alta, para esto definimos una funcion que, a medida que vaya calculando los promedios, se quede con el promedio mas alto y el nombre del estudiante al que le corresponda ese promedio"
   ]
  },
  {
   "cell_type": "code",
   "execution_count": 12,
   "id": "d0565ddb-28c2-4a62-9c8a-7d5f48b2f398",
   "metadata": {},
   "outputs": [],
   "source": [
    "def busca_prom_max(**dicc):\n",
    "    \"\"\" esta funcion busca el promedio maximo entre las notas de los estudiantes y devuelve dos valores, el nombre del \n",
    "    estudiante con el mejor promedio y el promedio en cuestion\"\"\"\n",
    "    test=0 #variable inicial para comparar los promedios y quedarnos con el mayor\n",
    "    for i in dicc.keys():\n",
    "        x=promedio(dicc[i])\n",
    "        if x > test:\n",
    "            alum_prom_max=i\n",
    "            prom_max=x\n",
    "            test=x\n",
    "    return alum_prom_max, prom_max"
   ]
  },
  {
   "cell_type": "code",
   "execution_count": 13,
   "id": "1b9756f9-38d9-4dba-bda1-6c3709a6d7eb",
   "metadata": {},
   "outputs": [
    {
     "name": "stdout",
     "output_type": "stream",
     "text": [
      "el alumno con mejor promedio es Jonathan con 86.5\n"
     ]
    }
   ],
   "source": [
    "alum_prom_max,prom_max=busca_prom_max(**registro)\n",
    "print(f\"el alumno con mejor promedio es {alum_prom_max} con {prom_max}\")"
   ]
  },
  {
   "cell_type": "markdown",
   "id": "9b5f3204-4cd7-441f-8654-a5df0bcaef5a",
   "metadata": {},
   "source": [
    "E) Aca nos piden la nota mas baja, para esto definimos una funcion que tome el minimo de cada lista de notas en el diccionario \"registro\" y a medida que lo haga se quede con la mas chica y con el/la estudiante correspondiente a esa nota"
   ]
  },
  {
   "cell_type": "code",
   "execution_count": 10,
   "id": "0a35fcc8-40d9-4c86-abe3-cb500acf79af",
   "metadata": {},
   "outputs": [],
   "source": [
    "def busca_nota_min(**dicc):\n",
    "    \"\"\" esta funcion busca la nota mas chica de entre todas las que aprecen en el diccionario del argumento y devuelve\n",
    "    tanto la nota minima como el nombre del alumno que le corresponde dicha nota\"\"\"\n",
    "    nota_test=101 # como las notas va de 1 a 100, con este valor de prueba inicial nos aceguramos de que entre al if \n",
    "    for i in dicc.keys():\n",
    "        x=min(dicc[i])\n",
    "        if x < nota_test: \n",
    "            nota_minima=x\n",
    "            alum_nota_minima=i\n",
    "            nota_test=x\n",
    "    return alum_nota_minima,nota_minima"
   ]
  },
  {
   "cell_type": "code",
   "execution_count": 11,
   "id": "86852b22-4c1d-45df-9c12-25217200e55a",
   "metadata": {},
   "outputs": [
    {
     "name": "stdout",
     "output_type": "stream",
     "text": [
      "la nota mas baja es 3 y le corresponde a ELIANA\n"
     ]
    }
   ],
   "source": [
    "alum_nota_minima,nota_minima=busca_nota_min(**registro)\n",
    "print(f\"la nota mas baja es {nota_minima} y le corresponde a {alum_nota_minima}\")"
   ]
  }
 ],
 "metadata": {
  "kernelspec": {
   "display_name": "Python 3",
   "language": "python",
   "name": "python3"
  },
  "language_info": {
   "codemirror_mode": {
    "name": "ipython",
    "version": 3
   },
   "file_extension": ".py",
   "mimetype": "text/x-python",
   "name": "python",
   "nbconvert_exporter": "python",
   "pygments_lexer": "ipython3",
   "version": "3.8.8"
  }
 },
 "nbformat": 4,
 "nbformat_minor": 5
}
