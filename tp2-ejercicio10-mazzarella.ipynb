{
 "cells": [
  {
   "cell_type": "markdown",
   "id": "9c0ab5d7-38f5-41f3-bde1-a0d03050dd56",
   "metadata": {},
   "source": [
    "10. Dada una lista de nombres de estudiantes y dos listas con sus notas en un curso, escriba un programa que manipule dichas estructuras de datos para poder resolver los siguientes puntos:\n",
    "    1. Generar una estructura todas las notas sin que se repitan, sin guardar los nombres de los estudiantes.\n",
    "    2. Calcular el promedio de notas de cada estudiante.\n",
    "    3. Calcular el promedio general del curso.\n",
    "    4. Identificar al estudiante con la nota promedio más alta.\n",
    "    5. Identificar al estudiante con la nota más baja.\n",
    "\n",
    "\n",
    "**Nota**:\n",
    "- Las 3 estructuras están ordenadas de forma que los elementos en la misma posición corresponden a un mismo alumno.\n",
    "- Realizar funciones con cada item"
   ]
  },
  {
   "cell_type": "code",
   "execution_count": 24,
   "id": "a4af89b2-880c-42d2-850f-1249df0a7f61",
   "metadata": {},
   "outputs": [],
   "source": [
    "nombres = ''' 'Agustin', 'Alan', 'Andrés', 'Ariadna', 'Bautista', 'CAROLINA', 'CESAR',\n",
    "'David', 'Diego', 'Dolores', 'DYLAN', 'ELIANA', 'Emanuel', 'Fabián', 'Facundo',\n",
    "'Francsica', 'FEDERICO', 'Fernanda', 'GONZALO', 'Gregorio', 'Ignacio', 'Jonathan',\n",
    "'Joaquina', 'Jorge', 'JOSE', 'Javier', 'Joaquín' , 'Julian', 'Julieta', 'Luciana',\n",
    "'LAUTARO', 'Leonel', 'Luisa', 'Luis', 'Marcos', 'María', 'MATEO', 'Matias',\n",
    "'Nicolás', 'Nancy', 'Noelia', 'Pablo', 'Priscila', 'Sabrina', 'Tomás', 'Ulises',\n",
    "'Yanina' '''\n",
    "notas_1 = [81,  60, 72, 24, 15, 91, 12, 70, 29, 42, 16, 3, 35, 67, 10, 57, 11, 69, 12, 77, \n",
    "           13, 86, 48, 65, 51, 41, 87, 43, 10, 87, 91, 15, 44, 85, 73, 37, 42, 95, 18, 7, \n",
    "           74, 60, 9, 65, 93, 63, 74]\n",
    "notas_2 = [30, 95, 28, 84, 84, 43, 66, 51, 4, 11, 58, 10, 13, 34, 96, 71, 86, 37, 64, 13, 8,\n",
    "           87, 14, 14, 49, 27, 55, 69, 77, 59, 57, 40, 96, 24, 30, 73, 95, 19, 47, 15, 31,\n",
    "           39, 15, 74, 33, 57, 10]"
   ]
  },
  {
   "cell_type": "markdown",
   "id": "e20bc556-846d-464a-a217-e67261a22c93",
   "metadata": {},
   "source": [
    "Separemos los nombres en una lista, eliminando los saltos y espacios"
   ]
  },
  {
   "cell_type": "code",
   "execution_count": 38,
   "id": "6766697d-ff21-4dff-83af-dcbcfc413717",
   "metadata": {},
   "outputs": [],
   "source": [
    "ID=nombres.replace('\\n',' ').replace('\\'', '').strip(\" \").split(', ') #lo vamos a usar mas adelante\n"
   ]
  },
  {
   "cell_type": "markdown",
   "id": "5cbc03e8-2698-4cec-b705-5b916b6ef236",
   "metadata": {},
   "source": [
    "A) nos piden que generemos una estructura con todas las notas sin repetirse y sin guardar el nombre de los estudiantes. Para eso vamos definir una funcion que filtre listas y pasarle por argumento las listas \"notas_1\" y \"notas_2\""
   ]
  },
  {
   "cell_type": "code",
   "execution_count": 43,
   "id": "1f29143a-afa9-44ae-b06b-f14b504f723d",
   "metadata": {},
   "outputs": [],
   "source": [
    "def filtrar(*listas):\n",
    "    \"\"\" esta es una funcion que dadas una serie de listas filtra los elementos y devuelve una sola lista \n",
    "    con todos los elementos sin repetir que haya en las listas ingresadas por argumento\"\"\"\n",
    "    lista_filtrada=[]\n",
    "    for elemen in listas: #toma los elementos de *listas que son listas\n",
    "        for n in elemen: # toma cada elemento de la lista elemen\n",
    "            if n not in lista_filtrada: # revisa que el elemento no este en la nueva lista\n",
    "                lista_filtrada.append(n) #si el elemento no esta en la nueva lista lo agrega\n",
    "    return lista_filtrada\n",
    "#    return elemn   "
   ]
  },
  {
   "cell_type": "code",
   "execution_count": 27,
   "id": "f494a483-4e6d-411c-8d89-47af497e7cf9",
   "metadata": {},
   "outputs": [
    {
     "name": "stdout",
     "output_type": "stream",
     "text": [
      "[81, 60, 72, 24, 15, 91, 12, 70, 29, 42, 16, 3, 35, 67, 10, 57, 11, 69, 77, 13, 86, 48, 65, 51, 41, 87, 43, 44, 85, 73, 37, 95, 18, 7, 74, 9, 93, 63, 30, 28, 84, 66, 4, 58, 34, 96, 71, 64, 8, 14, 49, 27, 55, 59, 40, 19, 47, 31, 39, 33]\n"
     ]
    }
   ],
   "source": [
    "notas_filtradas=filtrar(notas_1,notas_2)\n",
    "print(notas_filtradas)"
   ]
  },
  {
   "cell_type": "markdown",
   "id": "6c6bfb29-c7dd-4c09-80c5-639988e7e4e9",
   "metadata": {},
   "source": [
    "Ahora en la lista \"notas_filtradas\" tenemos todas las notas sin que se repitan y sin los nombres de los estudiantes."
   ]
  },
  {
   "cell_type": "markdown",
   "id": "367ad7cf-f427-4b71-b4c9-cd5aec6d2141",
   "metadata": {},
   "source": [
    "B) Ahora tenemos que calcular el promedio de las notas de cada estudiante. Para eso volvemos a las listas originales (ID, notas_1 y notas_2). Primero generamos un diccionario donde las claves son los nombres de los alumnos y los valores un lista con las notas de los estudiantes. "
   ]
  },
  {
   "cell_type": "code",
   "execution_count": 28,
   "id": "7b722138-e7f9-4acf-8753-93721065a1b4",
   "metadata": {
    "scrolled": true
   },
   "outputs": [
    {
     "name": "stdout",
     "output_type": "stream",
     "text": [
      "{'Agustin': [81, 30], 'Alan': [60, 95], 'Andrés': [72, 28], 'Ariadna': [24, 84], 'Bautista': [15, 84], 'CAROLINA': [91, 43], 'CESAR': [12, 66], 'David': [70, 51], 'Diego': [29, 4], 'Dolores': [42, 11], 'DYLAN': [16, 58], 'ELIANA': [3, 10], 'Emanuel': [35, 13], 'Fabián': [67, 34], 'Facundo': [10, 96], 'Francsica': [57, 71], 'FEDERICO': [11, 86], 'Fernanda': [69, 37], 'GONZALO': [12, 64], 'Gregorio': [77, 13], 'Ignacio': [13, 8], 'Jonathan': [86, 87], 'Joaquina': [48, 14], 'Jorge': [65, 14], 'JOSE': [51, 49], 'Javier': [41, 27], 'Joaquín ': [87, 55], 'Julian': [43, 69], 'Julieta': [10, 77], 'Luciana': [87, 59], 'LAUTARO': [91, 57], 'Leonel': [15, 40], 'Luisa': [44, 96], 'Luis': [85, 24], 'Marcos': [73, 30], 'María': [37, 73], 'MATEO': [42, 95], 'Matias': [95, 19], 'Nicolás': [18, 47], 'Nancy': [7, 15], 'Noelia': [74, 31], 'Pablo': [60, 39], 'Priscila': [9, 15], 'Sabrina': [65, 74], 'Tomás': [93, 33], 'Ulises': [63, 57], 'Yanina': [74, 10]}\n"
     ]
    }
   ],
   "source": [
    "registro={}\n",
    "for i in range(len(ID)):\n",
    "    registro[ID[i]]=[notas_1[i],notas_2[i]]\n",
    "print(registro)"
   ]
  },
  {
   "cell_type": "markdown",
   "id": "d156cd17-fa03-4717-93fb-5189c8e69339",
   "metadata": {},
   "source": [
    "Ahora definimos una funcion que calcule el promedio "
   ]
  },
  {
   "cell_type": "code",
   "execution_count": 44,
   "id": "8aeaeb50-652a-4794-b3e3-fb70ef5ac278",
   "metadata": {},
   "outputs": [],
   "source": [
    "def promedio(*val):\n",
    "    \"\"\" esta funcion calcula el valor promedio de una lista o tupla. Se debe, si o si, poner de argumento una variable \n",
    "    tipo lista (o tupla) o al menos dos numeros ingresados de forma manual en el argumento.\"\"\"\n",
    "    #como *val es una tupla, si le paso una variable lista la toma como una tupla de un elemento y no podemos hacer \n",
    "    #sum() de una, primero tenemos que ver si es una tupla de un elemento o si es una tupla de varios numeros\n",
    "    #de esta manera la funcion es mas general sirviendo para pasarle una variable lista (o tupla) o numeros manualmente\n",
    "    if len(val) == 1: \n",
    "        prom=sum(val[0])/len(val[0]) #si le paso una lista la toma como tupla de un elemento y entra a esta linea\n",
    "    else:\n",
    "        prom=sum(val)/len(val) #si le pongo una serie de numeros a mano al argumento entra en esta linea y lo calcula\n",
    "    return prom"
   ]
  },
  {
   "cell_type": "markdown",
   "id": "abf98489-fce1-4e09-9c72-5a03c9aab6dc",
   "metadata": {},
   "source": [
    "y ahora vamos a generar un diccionario donde la clave sean los nombres de los alumnos y los valores los promedios de cada uno"
   ]
  },
  {
   "cell_type": "code",
   "execution_count": 30,
   "id": "976edce8-bb22-4000-a5ca-1be48e84e72e",
   "metadata": {},
   "outputs": [
    {
     "name": "stdout",
     "output_type": "stream",
     "text": [
      "{'Agustin': 55.5, 'Alan': 77.5, 'Andrés': 50.0, 'Ariadna': 54.0, 'Bautista': 49.5, 'CAROLINA': 67.0, 'CESAR': 39.0, 'David': 60.5, 'Diego': 16.5, 'Dolores': 26.5, 'DYLAN': 37.0, 'ELIANA': 6.5, 'Emanuel': 24.0, 'Fabián': 50.5, 'Facundo': 53.0, 'Francsica': 64.0, 'FEDERICO': 48.5, 'Fernanda': 53.0, 'GONZALO': 38.0, 'Gregorio': 45.0, 'Ignacio': 10.5, 'Jonathan': 86.5, 'Joaquina': 31.0, 'Jorge': 39.5, 'JOSE': 50.0, 'Javier': 34.0, 'Joaquín ': 71.0, 'Julian': 56.0, 'Julieta': 43.5, 'Luciana': 73.0, 'LAUTARO': 74.0, 'Leonel': 27.5, 'Luisa': 70.0, 'Luis': 54.5, 'Marcos': 51.5, 'María': 55.0, 'MATEO': 68.5, 'Matias': 57.0, 'Nicolás': 32.5, 'Nancy': 11.0, 'Noelia': 52.5, 'Pablo': 49.5, 'Priscila': 12.0, 'Sabrina': 69.5, 'Tomás': 63.0, 'Ulises': 60.0, 'Yanina': 42.0}\n"
     ]
    }
   ],
   "source": [
    "promedio_alumnos={}\n",
    "for i in range(len(ID)):\n",
    "    promedio_alumnos[ID[i]]=promedio(registro[ID[i]])\n",
    "print(promedio_alumnos)"
   ]
  },
  {
   "cell_type": "markdown",
   "id": "ca7936f2-c60f-486b-bded-54cfd2f2a9cd",
   "metadata": {},
   "source": [
    "C) Ahora nos piden calcular el promedio general de todo el curso, para eso vamos a calcular el promedio de los promedios de cada alumno. Usamos la misma funcion que en el item B) calculamos el promedio genereal de toda la clase\n"
   ]
  },
  {
   "cell_type": "code",
   "execution_count": 31,
   "id": "28cdc2b1-493d-4a34-ae96-dc6a0cfe6639",
   "metadata": {},
   "outputs": [
    {
     "name": "stdout",
     "output_type": "stream",
     "text": [
      "el promedio general de la clase es 48.09574468085106\n"
     ]
    }
   ],
   "source": [
    "promedios=list(promedio_alumnos.values())\n",
    "print(f\"el promedio general de la clase es {promedio(promedios)}\")"
   ]
  },
  {
   "cell_type": "markdown",
   "id": "e09d80ea-fa7a-40f9-918d-bbe99a444ba4",
   "metadata": {},
   "source": [
    "D) Ahora nos piden identificar al estudiante con la nota promedio mas alta. Para esto vamos a usar la funcion \"sorted\" la cual nos retorna una lista ordenada a partir de un iterable, en este caso nos da una lista de tuplas donde los elementos son el nombre del alumno y su promedio. La funcion \"sorted\" tiene dos argumentos, uno es \"key\" que nos da la funcion que sera llamada en cada elemento, para este caso usamos \"lambda\" para decirle que para cada elemento del objeto creado con .items() (es un objeto de tipo \"dict_items\" cuyos elementos son tuplas de la forma (clave,valor)) nos tome el segundo elemento de la tupla y por lo tanto ordene segun ese elemento. Por ultimo el argumento \"reverse=True\" para que lo ordene de mayor a menor, sino por defecto lo ordena de menor a mayor."
   ]
  },
  {
   "cell_type": "code",
   "execution_count": 42,
   "id": "b0be83da-c897-49b3-9478-fce0d7ca1b17",
   "metadata": {},
   "outputs": [
    {
     "name": "stdout",
     "output_type": "stream",
     "text": [
      "el mejor promedio es 86.5 que lo tiene Jonathan \n"
     ]
    }
   ],
   "source": [
    "promedios_ordenados=sorted(promedio_alumnos.items(), key=lambda elem: elem[1],reverse=True)\n",
    "print(f\"el mejor promedio es {promedios_ordenados[0][1]} que lo tiene {promedios_ordenados[0][0]} \")"
   ]
  },
  {
   "cell_type": "markdown",
   "id": "9b5f3204-4cd7-441f-8654-a5df0bcaef5a",
   "metadata": {},
   "source": [
    "E) Aca nos piden la nota mas baja (No estoy seguro si es la nota como tal o el promedio, pero como el promedio se obtiene como el ultimo elemento de la lista \"promedios_ordenados\" del inciso anterior aca vamos a buscar la nota mas baja como tal). Para esto lo primero que vamos a hacer es identificar si la nota mas baja esta en el conjunto de notas 1 o 2, esto nos va a facilitar organizar el diccionario \"registro\" como en el inciso anterior, para esto."
   ]
  },
  {
   "cell_type": "code",
   "execution_count": 33,
   "id": "3e2d05f4-1804-4fd7-b3ca-3bfd0497193f",
   "metadata": {
    "tags": []
   },
   "outputs": [
    {
     "name": "stdout",
     "output_type": "stream",
     "text": [
      "la nota mas baja del conjunto notas_1 es 3 y de notas_2 es 4\n"
     ]
    }
   ],
   "source": [
    "min1=min(notas_1)\n",
    "min2=min(notas_2)\n",
    "print(f\"la nota mas baja del conjunto notas_1 es {min1} y de notas_2 es {min2}\")"
   ]
  },
  {
   "cell_type": "markdown",
   "id": "72dbe261-cf78-49f1-8162-310b8ce0df0d",
   "metadata": {},
   "source": [
    "Ahora que sabemos que la nota mas baja esta en el conjunto de notas 1 vamos a ordenar el diccionario registro de una manera similar al punto anterior, en este caso como sabemos que la nota mas baja esta en el conjunto notas_1 que va a ser el primer elemento de la lista del valor, vamos a usar un \"lambda\" que le diga que ordene accediendo a ese elemento."
   ]
  },
  {
   "cell_type": "code",
   "execution_count": 34,
   "id": "a355e19c-5ec3-47f0-9f50-cd517286b83b",
   "metadata": {},
   "outputs": [
    {
     "name": "stdout",
     "output_type": "stream",
     "text": [
      "la nota mas baja es 3 y la tiene ELIANA\n"
     ]
    }
   ],
   "source": [
    "orden_notas=sorted(registro.items(), key=lambda elem: elem[1][0])\n",
    "print(f\"la nota mas baja es {orden_notas[0][1][0]} y la tiene {orden_notas[0][0]}\")"
   ]
  },
  {
   "cell_type": "markdown",
   "id": "ef3d0c37-7969-4636-b371-8a9df2d09cec",
   "metadata": {},
   "source": [
    "Como seria ordenar segun el segundo item (a modo de ejemplo):"
   ]
  },
  {
   "cell_type": "code",
   "execution_count": 36,
   "id": "60e134d8-dcfb-4fe1-ae36-b09776db9ebf",
   "metadata": {},
   "outputs": [
    {
     "name": "stdout",
     "output_type": "stream",
     "text": [
      "la nota mas baja es 4 y la tiene Diego\n"
     ]
    }
   ],
   "source": [
    "orden_notas_2=sorted(registro.items(), key=lambda elem: elem[1][1])\n",
    "print(f\"la nota mas baja es {orden_notas_2[0][1][1]} y la tiene {orden_notas_2[0][0]}\")"
   ]
  }
 ],
 "metadata": {
  "kernelspec": {
   "display_name": "Python 3",
   "language": "python",
   "name": "python3"
  },
  "language_info": {
   "codemirror_mode": {
    "name": "ipython",
    "version": 3
   },
   "file_extension": ".py",
   "mimetype": "text/x-python",
   "name": "python",
   "nbconvert_exporter": "python",
   "pygments_lexer": "ipython3",
   "version": "3.8.8"
  }
 },
 "nbformat": 4,
 "nbformat_minor": 5
}
